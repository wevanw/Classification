{
 "cells": [
  {
   "cell_type": "code",
   "execution_count": 1,
   "metadata": {},
   "outputs": [],
   "source": [
    "import numpy as np\n",
    "import os\n",
    "import nltk\n",
    "\n",
    "import torch\n",
    "import torch.nn\n",
    "import torchtext.vocab as vocab\n",
    "from sklearn import metrics\n",
    "import pandas as pd\n",
    "import warnings\n",
    "from sklearn.metrics import accuracy_score, f1_score, recall_score\n",
    "from sklearn.linear_model import LinearRegression\n",
    "from datetime import datetime\n",
    "from sklearn.neighbors import KNeighborsClassifier\n",
    "from sklearn.model_selection import train_test_split\n",
    "from sklearn.linear_model import LinearRegression\n",
    "warnings.filterwarnings(\"ignore\")\n"
   ]
  },
  {
   "cell_type": "code",
   "execution_count": 2,
   "metadata": {},
   "outputs": [],
   "source": [
    "def load_data():\n",
    "    df = pd.read_csv(\"./data/markets.csv\", encoding='utf_8_sig')\n",
    "    # print(df.columns)\n",
    "    #df.drop(df[df.cat== 'Seafood'].index, inplace= True )\n",
    "    texts = df['name'].values\n",
    "    df = df.fillna(-1)\n",
    "    # labels = np.argmax(df[df.columns[-4:]].values, axis=1)\n",
    "    labels = df['cat'].values\n",
    "    label2id = {l: i for i, l in enumerate(set(labels))}\n",
    "    id2label = {i: l for l, i in label2id.items()}\n",
    "    labels = [label2id[l] for l in labels]\n",
    "    return texts, labels, id2label"
   ]
  },
  {
   "cell_type": "code",
   "execution_count": 6,
   "metadata": {},
   "outputs": [],
   "source": [
    "def text_preprocess(text):\n",
    "    text = str(text)\n",
    "    english_punctuations = [',', '.', ':', ';', '?', '(', ')', '[', ']', '&', '!', '*', '@', '#', '$', '%', '\\'', '/']\n",
    "    text = \"\".join([(a if a not in english_punctuations else \" \") for a in text])\n",
    "    text = \" \".join(nltk.tokenize.word_tokenize(text.lower()))\n",
    "    return text"
   ]
  },
  {
   "cell_type": "code",
   "execution_count": 7,
   "metadata": {},
   "outputs": [],
   "source": [
    "def load_embeddings():\n",
    "    \n",
    "    cache = '.vector_cache'\n",
    "    if not os.path.exists(cache):\n",
    "        os.mkdir(cache)\n",
    "\n",
    "    word2vec = vocab.Vectors(name=r'./word2vec/word2vec_300dim.txt', cache=cache)\n",
    "\n",
    "    return word2vec"
   ]
  },
  {
   "cell_type": "code",
   "execution_count": 8,
   "metadata": {},
   "outputs": [],
   "source": [
    "def encode_text_to_features(vector, text):\n",
    "    vectors = vector.get_vecs_by_tokens(text.split())\n",
    "    sentence_vector = torch.mean(vectors, dim=0)\n",
    "    return sentence_vector.tolist()"
   ]
  },
  {
   "cell_type": "code",
   "execution_count": 9,
   "metadata": {},
   "outputs": [],
   "source": [
    "def evaluation(predictions, labels, id2label, model_name=None):\n",
    "    acc = accuracy_score(labels, predictions)\n",
    "    recall = recall_score(labels, predictions, average=\"macro\")\n",
    "    f1 = f1_score(labels, predictions, average=\"macro\")\n",
    "    report = metrics.classification_report(labels, predictions,\n",
    "                                           target_names=[id2label[i] for i in range(len(id2label))])\n",
    "    info = \"acc:%s, recall:%s, f1 score:%s\" % (acc, recall, f1)\n",
    "    if model_name is not None:\n",
    "        info = \"%s: %s\" % (model_name, info)\n",
    "    print(info)\n",
    "    print(report)"
   ]
  },
  {
   "cell_type": "code",
   "execution_count": 10,
   "metadata": {},
   "outputs": [
    {
     "data": {
      "text/html": [
       "<div>\n",
       "<style scoped>\n",
       "    .dataframe tbody tr th:only-of-type {\n",
       "        vertical-align: middle;\n",
       "    }\n",
       "\n",
       "    .dataframe tbody tr th {\n",
       "        vertical-align: top;\n",
       "    }\n",
       "\n",
       "    .dataframe thead th {\n",
       "        text-align: right;\n",
       "    }\n",
       "</style>\n",
       "<table border=\"1\" class=\"dataframe\">\n",
       "  <thead>\n",
       "    <tr style=\"text-align: right;\">\n",
       "      <th></th>\n",
       "      <th>Unnamed: 0</th>\n",
       "      <th>name</th>\n",
       "      <th>cat</th>\n",
       "    </tr>\n",
       "  </thead>\n",
       "  <tbody>\n",
       "    <tr>\n",
       "      <th>0</th>\n",
       "      <td>0</td>\n",
       "      <td>little ones baby wipes unscented</td>\n",
       "      <td>Baby care</td>\n",
       "    </tr>\n",
       "    <tr>\n",
       "      <th>1</th>\n",
       "      <td>1</td>\n",
       "      <td>essentials baby wipes fragrance free</td>\n",
       "      <td>Baby care</td>\n",
       "    </tr>\n",
       "    <tr>\n",
       "      <th>2</th>\n",
       "      <td>2</td>\n",
       "      <td>huggies baby wipes unscented</td>\n",
       "      <td>Baby care</td>\n",
       "    </tr>\n",
       "    <tr>\n",
       "      <th>3</th>\n",
       "      <td>3</td>\n",
       "      <td>huggies essentials walker nappies unisex 13-18...</td>\n",
       "      <td>Baby care</td>\n",
       "    </tr>\n",
       "    <tr>\n",
       "      <th>4</th>\n",
       "      <td>4</td>\n",
       "      <td>silk baby wipes fragrance free</td>\n",
       "      <td>Baby care</td>\n",
       "    </tr>\n",
       "  </tbody>\n",
       "</table>\n",
       "</div>"
      ],
      "text/plain": [
       "   Unnamed: 0                                               name        cat\n",
       "0           0                   little ones baby wipes unscented  Baby care\n",
       "1           1               essentials baby wipes fragrance free  Baby care\n",
       "2           2                       huggies baby wipes unscented  Baby care\n",
       "3           3  huggies essentials walker nappies unisex 13-18...  Baby care\n",
       "4           4                     silk baby wipes fragrance free  Baby care"
      ]
     },
     "execution_count": 10,
     "metadata": {},
     "output_type": "execute_result"
    }
   ],
   "source": [
    "data = pd.read_csv('./data/markets.csv', encoding='utf_8_sig')\n",
    "data.head()"
   ]
  },
  {
   "cell_type": "code",
   "execution_count": 11,
   "metadata": {},
   "outputs": [
    {
     "data": {
      "text/html": [
       "<div>\n",
       "<style scoped>\n",
       "    .dataframe tbody tr th:only-of-type {\n",
       "        vertical-align: middle;\n",
       "    }\n",
       "\n",
       "    .dataframe tbody tr th {\n",
       "        vertical-align: top;\n",
       "    }\n",
       "\n",
       "    .dataframe thead th {\n",
       "        text-align: right;\n",
       "    }\n",
       "</style>\n",
       "<table border=\"1\" class=\"dataframe\">\n",
       "  <thead>\n",
       "    <tr style=\"text-align: right;\">\n",
       "      <th></th>\n",
       "      <th>name</th>\n",
       "      <th>cat</th>\n",
       "    </tr>\n",
       "  </thead>\n",
       "  <tbody>\n",
       "    <tr>\n",
       "      <th>0</th>\n",
       "      <td>little ones baby wipes unscented</td>\n",
       "      <td>Baby care</td>\n",
       "    </tr>\n",
       "    <tr>\n",
       "      <th>1</th>\n",
       "      <td>essentials baby wipes fragrance free</td>\n",
       "      <td>Baby care</td>\n",
       "    </tr>\n",
       "    <tr>\n",
       "      <th>2</th>\n",
       "      <td>huggies baby wipes unscented</td>\n",
       "      <td>Baby care</td>\n",
       "    </tr>\n",
       "    <tr>\n",
       "      <th>3</th>\n",
       "      <td>huggies essentials walker nappies unisex 13-18...</td>\n",
       "      <td>Baby care</td>\n",
       "    </tr>\n",
       "    <tr>\n",
       "      <th>4</th>\n",
       "      <td>silk baby wipes fragrance free</td>\n",
       "      <td>Baby care</td>\n",
       "    </tr>\n",
       "  </tbody>\n",
       "</table>\n",
       "</div>"
      ],
      "text/plain": [
       "                                                name        cat\n",
       "0                   little ones baby wipes unscented  Baby care\n",
       "1               essentials baby wipes fragrance free  Baby care\n",
       "2                       huggies baby wipes unscented  Baby care\n",
       "3  huggies essentials walker nappies unisex 13-18...  Baby care\n",
       "4                     silk baby wipes fragrance free  Baby care"
      ]
     },
     "execution_count": 11,
     "metadata": {},
     "output_type": "execute_result"
    }
   ],
   "source": [
    "data = data.drop(['Unnamed: 0'], axis=1)\n",
    "data.head()"
   ]
  },
  {
   "cell_type": "code",
   "execution_count": 12,
   "metadata": {},
   "outputs": [],
   "source": [
    "data = data.apply([text_preprocess])"
   ]
  },
  {
   "cell_type": "code",
   "execution_count": 13,
   "metadata": {},
   "outputs": [],
   "source": [
    "data.columns = ['name', 'cat']"
   ]
  },
  {
   "cell_type": "code",
   "execution_count": 14,
   "metadata": {},
   "outputs": [
    {
     "data": {
      "text/html": [
       "<div>\n",
       "<style scoped>\n",
       "    .dataframe tbody tr th:only-of-type {\n",
       "        vertical-align: middle;\n",
       "    }\n",
       "\n",
       "    .dataframe tbody tr th {\n",
       "        vertical-align: top;\n",
       "    }\n",
       "\n",
       "    .dataframe thead th {\n",
       "        text-align: right;\n",
       "    }\n",
       "</style>\n",
       "<table border=\"1\" class=\"dataframe\">\n",
       "  <thead>\n",
       "    <tr style=\"text-align: right;\">\n",
       "      <th></th>\n",
       "      <th>name</th>\n",
       "      <th>cat</th>\n",
       "    </tr>\n",
       "  </thead>\n",
       "  <tbody>\n",
       "    <tr>\n",
       "      <th>0</th>\n",
       "      <td>little ones baby wipes unscented</td>\n",
       "      <td>baby care</td>\n",
       "    </tr>\n",
       "    <tr>\n",
       "      <th>1</th>\n",
       "      <td>essentials baby wipes fragrance free</td>\n",
       "      <td>baby care</td>\n",
       "    </tr>\n",
       "    <tr>\n",
       "      <th>2</th>\n",
       "      <td>huggies baby wipes unscented</td>\n",
       "      <td>baby care</td>\n",
       "    </tr>\n",
       "    <tr>\n",
       "      <th>3</th>\n",
       "      <td>huggies essentials walker nappies unisex 13-18...</td>\n",
       "      <td>baby care</td>\n",
       "    </tr>\n",
       "    <tr>\n",
       "      <th>4</th>\n",
       "      <td>silk baby wipes fragrance free</td>\n",
       "      <td>baby care</td>\n",
       "    </tr>\n",
       "    <tr>\n",
       "      <th>...</th>\n",
       "      <td>...</td>\n",
       "      <td>...</td>\n",
       "    </tr>\n",
       "    <tr>\n",
       "      <th>13487</th>\n",
       "      <td>daim chocolate bar</td>\n",
       "      <td>chocolate sweets snacks</td>\n",
       "    </tr>\n",
       "    <tr>\n",
       "      <th>13488</th>\n",
       "      <td>romanos supreme pizza minis 450g</td>\n",
       "      <td>deli chilled foods</td>\n",
       "    </tr>\n",
       "    <tr>\n",
       "      <th>13489</th>\n",
       "      <td>san remo gluten free pasta fettuccine</td>\n",
       "      <td>health wellness</td>\n",
       "    </tr>\n",
       "    <tr>\n",
       "      <th>13490</th>\n",
       "      <td>watties wok creations stir fry sauce malaysian...</td>\n",
       "      <td>meal ingredients</td>\n",
       "    </tr>\n",
       "    <tr>\n",
       "      <th>13491</th>\n",
       "      <td>ceres organics lentils organic brown</td>\n",
       "      <td>meal ingredients</td>\n",
       "    </tr>\n",
       "  </tbody>\n",
       "</table>\n",
       "<p>13492 rows × 2 columns</p>\n",
       "</div>"
      ],
      "text/plain": [
       "                                                    name  \\\n",
       "0                       little ones baby wipes unscented   \n",
       "1                   essentials baby wipes fragrance free   \n",
       "2                           huggies baby wipes unscented   \n",
       "3      huggies essentials walker nappies unisex 13-18...   \n",
       "4                         silk baby wipes fragrance free   \n",
       "...                                                  ...   \n",
       "13487                                 daim chocolate bar   \n",
       "13488                   romanos supreme pizza minis 450g   \n",
       "13489              san remo gluten free pasta fettuccine   \n",
       "13490  watties wok creations stir fry sauce malaysian...   \n",
       "13491               ceres organics lentils organic brown   \n",
       "\n",
       "                           cat  \n",
       "0                    baby care  \n",
       "1                    baby care  \n",
       "2                    baby care  \n",
       "3                    baby care  \n",
       "4                    baby care  \n",
       "...                        ...  \n",
       "13487  chocolate sweets snacks  \n",
       "13488       deli chilled foods  \n",
       "13489          health wellness  \n",
       "13490         meal ingredients  \n",
       "13491         meal ingredients  \n",
       "\n",
       "[13492 rows x 2 columns]"
      ]
     },
     "execution_count": 14,
     "metadata": {},
     "output_type": "execute_result"
    }
   ],
   "source": [
    "data"
   ]
  },
  {
   "cell_type": "code",
   "execution_count": 15,
   "metadata": {},
   "outputs": [],
   "source": [
    "newfile = open('corpus.txt', 'w', encoding='utf_8_sig')\n",
    "for i in range(len(data['name'])):\n",
    "    newline = data['name'][i] + ' ' + data['cat'][i] + '\\n'\n",
    "    newfile.write(newline)"
   ]
  },
  {
   "cell_type": "code",
   "execution_count": 16,
   "metadata": {},
   "outputs": [],
   "source": [
    "#https://mp.weixin.qq.com/s/UFiZsPfXwg8lQUsGXcgHjA\n",
    "\n",
    "from gensim.models import Word2Vec\n",
    "from gensim.models.word2vec import LineSentence\n",
    "import multiprocessing"
   ]
  },
  {
   "cell_type": "code",
   "execution_count": 17,
   "metadata": {},
   "outputs": [],
   "source": [
    "readlines = open('corpus.txt', 'r', encoding='utf_8_sig')\n",
    "\n",
    "model = Word2Vec(LineSentence(readlines),\n",
    "                 size=300, window=5, min_count=10, sample=1e-5,\n",
    "                 workers=multiprocessing.cpu_count(), iter=5,)\n",
    "\n",
    "model.wv.save_word2vec_format(r'./word2vec/word2vec_300dim.txt', binary=False)"
   ]
  },
  {
   "cell_type": "code",
   "execution_count": 18,
   "metadata": {},
   "outputs": [
    {
     "name": "stdout",
     "output_type": "stream",
     "text": [
      "data len: 13492\n",
      "id2label {0: 'Deli  chilled foods', 1: 'Breakfast foods', 2: 'Office  entertainment', 3: 'Meat', 4: 'Frozen foods', 5: 'Meal ingredients', 6: 'Health  wellness', 7: 'Bakery', 8: 'Chocolate, sweets  snacks', 9: 'Drinks - hot  cold', 10: 'Home  kitchenware', 11: 'Fruit  vegetables', 12: 'Toys  party needs', 13: 'Liquor - beer  cider', 14: 'Biscuits  crackers', 15: 'Baking  cooking', 16: 'Canned  prepared foods', 17: 'Liquor - wine', 18: 'Cleaning  homecare', 19: 'Personal care', 20: 'Pharmacy', 21: 'Clothing  manchester', 22: 'Seafood', 23: 'Baby care', 24: 'Pet care'}\n"
     ]
    }
   ],
   "source": [
    "texts, labels, id2label = load_data()\n",
    "texts = [text_preprocess(t) for t in texts]\n",
    "vector = load_embeddings()\n",
    "features = [encode_text_to_features(vector, text) for text in texts]\n",
    "print(\"data len:\", len(texts))\n",
    "print(\"id2label\",id2label)"
   ]
  },
  {
   "cell_type": "code",
   "execution_count": 19,
   "metadata": {},
   "outputs": [],
   "source": [
    "x_train, x_test, y_train, y_test = train_test_split(features, labels, test_size=0.25,\n",
    "                                                                            random_state=3)"
   ]
  },
  {
   "cell_type": "code",
   "execution_count": 22,
   "metadata": {},
   "outputs": [
    {
     "name": "stdout",
     "output_type": "stream",
     "text": [
      "knn: acc:0.7328787429587904, recall:0.6766254009122578, f1 score:0.7058177770539886\n",
      "                           precision    recall  f1-score   support\n",
      "\n",
      "                 Pet care       0.97      0.95      0.96       151\n",
      "                 Pharmacy       0.00      0.00      0.00         1\n",
      "         Health  wellness       0.60      0.52      0.56       151\n",
      "       Cleaning  homecare       0.71      0.83      0.76       184\n",
      "            Liquor - wine       0.45      0.95      0.61       241\n",
      "                Baby care       0.95      0.78      0.86       125\n",
      "         Meal ingredients       0.86      0.74      0.80       214\n",
      "                   Bakery       0.89      0.70      0.79       118\n",
      "       Biscuits  crackers       0.91      0.71      0.80       108\n",
      "     Liquor - beer  cider       0.94      0.86      0.90        59\n",
      "Chocolate, sweets  snacks       0.74      0.87      0.80       183\n",
      "                  Seafood       0.47      0.31      0.37        26\n",
      "        Toys  party needs       0.78      0.51      0.62        49\n",
      "        Home  kitchenware       0.32      0.81      0.46       148\n",
      "        Fruit  vegetables       0.92      0.91      0.92        94\n",
      "       Drinks - hot  cold       0.94      0.79      0.85       183\n",
      "                     Meat       0.75      0.65      0.70        60\n",
      "            Personal care       0.95      0.69      0.80       213\n",
      "      Deli  chilled foods       0.94      0.67      0.78       230\n",
      "          Baking  cooking       0.74      0.51      0.60       197\n",
      "     Clothing  manchester       0.98      0.69      0.81        78\n",
      "    Office  entertainment       0.89      0.46      0.61        52\n",
      "          Breakfast foods       0.88      0.60      0.72       136\n",
      "             Frozen foods       0.85      0.70      0.77       210\n",
      "   Canned  prepared foods       0.96      0.68      0.79       162\n",
      "\n",
      "                 accuracy                           0.73      3373\n",
      "                macro avg       0.78      0.68      0.71      3373\n",
      "             weighted avg       0.81      0.73      0.75      3373\n",
      "\n"
     ]
    }
   ],
   "source": [
    "# knn\n",
    "k = len(id2label)\n",
    "model = KNeighborsClassifier(n_neighbors=k)\n",
    "model.fit(x_train, y_train)\n",
    "predict_labels = model.predict(x_test)\n",
    "evaluation(predict_labels, y_test, id2label, \"knn\")"
   ]
  },
  {
   "cell_type": "code",
   "execution_count": 23,
   "metadata": {},
   "outputs": [
    {
     "name": "stdout",
     "output_type": "stream",
     "text": [
      "logistic: acc:0.07560035576638008, recall:0.07877055344164148, f1 score:0.06941961115193275\n",
      "                           precision    recall  f1-score   support\n",
      "\n",
      "                 Pet care       0.42      0.13      0.19       151\n",
      "                 Pharmacy       0.00      0.00      0.00         1\n",
      "         Health  wellness       0.03      0.01      0.01       151\n",
      "       Cleaning  homecare       0.09      0.03      0.04       184\n",
      "            Liquor - wine       0.33      0.07      0.12       241\n",
      "                Baby care       0.08      0.06      0.07       125\n",
      "         Meal ingredients       0.16      0.10      0.12       214\n",
      "                   Bakery       0.08      0.10      0.09       118\n",
      "       Biscuits  crackers       0.07      0.09      0.08       108\n",
      "     Liquor - beer  cider       0.03      0.10      0.05        59\n",
      "Chocolate, sweets  snacks       0.06      0.07      0.06       183\n",
      "                  Seafood       0.01      0.12      0.02        26\n",
      "        Toys  party needs       0.03      0.16      0.05        49\n",
      "        Home  kitchenware       0.09      0.15      0.11       148\n",
      "        Fruit  vegetables       0.06      0.17      0.08        94\n",
      "       Drinks - hot  cold       0.08      0.11      0.10       183\n",
      "                     Meat       0.04      0.13      0.06        60\n",
      "            Personal care       0.04      0.04      0.04       213\n",
      "      Deli  chilled foods       0.14      0.09      0.11       230\n",
      "          Baking  cooking       0.08      0.05      0.06       197\n",
      "     Clothing  manchester       0.06      0.06      0.06        78\n",
      "    Office  entertainment       0.00      0.00      0.00        52\n",
      "          Breakfast foods       0.09      0.03      0.04       136\n",
      "             Frozen foods       0.32      0.03      0.06       210\n",
      "   Canned  prepared foods       0.29      0.06      0.10       162\n",
      "\n",
      "                 accuracy                           0.08      3373\n",
      "                macro avg       0.11      0.08      0.07      3373\n",
      "             weighted avg       0.14      0.08      0.08      3373\n",
      "\n"
     ]
    }
   ],
   "source": [
    "# # logistic\n",
    "model = LinearRegression()\n",
    "model.fit(x_train, y_train)\n",
    "predict_labels = model.predict(x_test)\n",
    "# print(predict_labels)\n",
    "predict_labels = [np.round(p) for p in predict_labels]\n",
    "max_label = len(id2label) - 1\n",
    "predict_labels = [l if max_label >= l else max_label for l in predict_labels]\n",
    "min_label = 0\n",
    "predict_labels = [l if min_label <= l else min_label for l in predict_labels]\n",
    "evaluation(predict_labels, y_test,id2label, \"logistic\")"
   ]
  },
  {
   "cell_type": "code",
   "execution_count": 24,
   "metadata": {},
   "outputs": [],
   "source": [
    "import lightgbm as lgb\n",
    "\n",
    "def lgb_model(x_train, x_test, y_train, y_test, verbose):\n",
    "    params = {'num_leaves': 60,\n",
    "    'min_data_in_leaf': 30,\n",
    "    'objective': 'multiclass',\n",
    "    'num_class': 33,\n",
    "    'max_depth': -1,\n",
    "    'learning_rate': 0.03,\n",
    "    \"min_sum_hessian_in_leaf\": 6,\n",
    "    \"boosting\": \"gbdt\",\n",
    "    \"feature_fraction\": 0.9,\n",
    "    \"bagging_freq\": 1,\n",
    "    \"bagging_fraction\": 0.8,\n",
    "    \"bagging_seed\": 11,\n",
    "    \"lambda_l1\": 0.1,\n",
    "    \"verbosity\": -1,\n",
    "    \"nthread\": 15,\n",
    "    'metric': 'multi_error',\n",
    "    \"random_state\": 2020\n",
    "          }\n",
    "\n",
    "    model = lgb.train(params\n",
    "                      , lgb.Dataset(x_train, y_train)\n",
    "                      , num_boost_round = 100000\n",
    "                      , valid_sets = [lgb.Dataset(x_test, y_test)]\n",
    "                      , verbose_eval = verbose\n",
    "                      , early_stopping_rounds = 500\n",
    "                     )\n",
    "\n",
    "    print('Predicting...')\n",
    "    y_prob = model.predict(x_test, num_iteration=model.best_iteration)\n",
    "    y_pred = [list(x).index(max(x)) for x in y_prob]\n",
    "    print(\"AUC score: {:<8.5f}\".format(metrics.accuracy_score(y_pred, y_test)))\n",
    "    report = metrics.classification_report(y_test, y_pred, target_names=[id2label[i] for i in range(len(id2label))])\n",
    "    print(report)\n",
    "    \n",
    "    return True"
   ]
  },
  {
   "cell_type": "code",
   "execution_count": null,
   "metadata": {},
   "outputs": [],
   "source": [
    "final = lgb_model(x_train, x_test, y_train, y_test, verbose=False)"
   ]
  },
  {
   "cell_type": "code",
   "execution_count": 19,
   "metadata": {},
   "outputs": [
    {
     "name": "stdout",
     "output_type": "stream",
     "text": [
      "svm: acc:0.8920841980432849, recall:0.8389959213418702, f1 score:0.8394722611556472\n",
      "                           precision    recall  f1-score   support\n",
      "\n",
      "            Personal care       0.91      0.96      0.94       213\n",
      "       Drinks - hot  cold       0.92      0.97      0.94       183\n",
      "         Meal ingredients       0.86      0.86      0.86       214\n",
      "                   Bakery       0.94      0.86      0.90       118\n",
      "                Baby care       0.94      0.96      0.95       125\n",
      "             Frozen foods       0.91      0.93      0.92       210\n",
      "                 Pet care       0.98      0.99      0.98       151\n",
      "       Cleaning  homecare       0.94      0.90      0.92       184\n",
      "     Clothing  manchester       0.99      0.91      0.95        78\n",
      "Chocolate, sweets  snacks       0.84      0.92      0.88       183\n",
      "     Liquor - beer  cider       0.94      1.00      0.97        59\n",
      "    Office  entertainment       0.61      0.77      0.68        52\n",
      "        Toys  party needs       0.84      0.78      0.81        49\n",
      "          Breakfast foods       0.87      0.91      0.89       136\n",
      "      Deli  chilled foods       0.83      0.87      0.85       230\n",
      "        Fruit  vegetables       0.94      0.95      0.94        94\n",
      "                  Seafood       0.71      0.46      0.56        26\n",
      "        Home  kitchenware       0.89      0.84      0.86       148\n",
      "            Liquor - wine       0.98      0.98      0.98       241\n",
      "                 Pharmacy       0.00      0.00      0.00         1\n",
      "                     Meat       0.81      0.90      0.85        60\n",
      "   Canned  prepared foods       0.92      0.89      0.91       162\n",
      "          Baking  cooking       0.80      0.75      0.77       197\n",
      "       Biscuits  crackers       0.95      0.97      0.96       108\n",
      "         Health  wellness       0.79      0.66      0.72       151\n",
      "\n",
      "                 accuracy                           0.89      3373\n",
      "                macro avg       0.84      0.84      0.84      3373\n",
      "             weighted avg       0.89      0.89      0.89      3373\n",
      "\n"
     ]
    }
   ],
   "source": [
    "from sklearn.multiclass import OneVsRestClassifier\n",
    "from sklearn.grid_search import GridSearchCV\n",
    "from sklearn.svm import SVC\n",
    "model = OneVsRestClassifier(SVC()) \n",
    "model.fit(x_train, y_train) \n",
    "predict_labels = model.predict(x_test)\n",
    "evaluation(predict_labels, y_test, id2label, \"svm\")"
   ]
  },
  {
   "cell_type": "code",
   "execution_count": 21,
   "metadata": {},
   "outputs": [],
   "source": [
    "import matplotlib.pyplot as plt\n",
    "from sklearn.model_selection import learning_curve"
   ]
  },
  {
   "cell_type": "code",
   "execution_count": 23,
   "metadata": {},
   "outputs": [
    {
     "data": {
      "image/png": "[encoded data removed]",
      "text/plain": [
       "<Figure size 432x288 with 1 Axes>"
      ]
     },
     "metadata": {
      "needs_background": "light"
     },
     "output_type": "display_data"
    }
   ],
   "source": [
    "train_sizes,train_score,test_score = learning_curve(SVC(),features,labels,train_sizes=[0.1,0.2,0.4,0.6,0.8,1],cv=5,scoring='accuracy')\n",
    "train_error =  1- np.mean(train_score,axis=1)\n",
    "test_error = 1- np.mean(test_score,axis=1)\n",
    "plt.plot(train_sizes,train_error,'o-',color = 'r',label = 'training')\n",
    "plt.plot(train_sizes,test_error,'o-',color = 'g',label = 'testing')\n",
    "plt.legend(loc='best')\n",
    "plt.xlabel('traing examples')\n",
    "plt.ylabel('error')\n",
    "plt.show()"
   ]
  },
  {
   "cell_type": "code",
   "execution_count": null,
   "metadata": {},
   "outputs": [],
   "source": [
    "# from sklearn.naive_bayes import MultinomialNB"
   ]
  },
  {
   "cell_type": "code",
   "execution_count": null,
   "metadata": {},
   "outputs": [],
   "source": []
  }
 ],
 "metadata": {
  "kernelspec": {
   "display_name": "Python 3",
   "language": "python",
   "name": "python3"
  },
  "language_info": {
   "codemirror_mode": {
    "name": "ipython",
    "version": 3
   },
   "file_extension": ".py",
   "mimetype": "text/x-python",
   "name": "python",
   "nbconvert_exporter": "python",
   "pygments_lexer": "ipython3",
   "version": "3.7.6"
  }
 },
 "nbformat": 4,
 "nbformat_minor": 2
}
