{
 "cells": [
  {
   "cell_type": "markdown",
   "metadata": {},
   "source": [
    "# import Package"
   ]
  },
  {
   "cell_type": "code",
   "execution_count": 1,
   "metadata": {},
   "outputs": [],
   "source": [
    "import numpy as np\n",
    "import os\n",
    "import nltk\n",
    "import torch\n",
    "import torch.nn\n",
    "import torchtext.vocab as vocab\n",
    "from sklearn import metrics\n",
    "import pandas as pd\n",
    "import warnings\n",
    "from sklearn.metrics import accuracy_score, f1_score, recall_score\n",
    "from sklearn.linear_model import LinearRegression\n",
    "from datetime import datetime\n",
    "from sklearn.neighbors import KNeighborsClassifier\n",
    "from sklearn.model_selection import train_test_split\n",
    "from sklearn.linear_model import LinearRegression\n",
    "warnings.filterwarnings(\"ignore\")\n"
   ]
  },
  {
   "cell_type": "markdown",
   "metadata": {},
   "source": [
    "# Function definition"
   ]
  },
  {
   "cell_type": "code",
   "execution_count": 2,
   "metadata": {},
   "outputs": [],
   "source": [
    "def load_data():\n",
    "    df = pd.read_csv(\"./data/markets.csv\", encoding='utf_8_sig')\n",
    "    # print(df.columns)\n",
    "    texts = df['name'].values\n",
    "    df = df.fillna(-1)\n",
    "    # labels = np.argmax(df[df.columns[-4:]].values, axis=1)\n",
    "    labels = df['cat'].values\n",
    "    label2id = {l: i for i, l in enumerate(set(labels))}\n",
    "    id2label = {i: l for l, i in label2id.items()}\n",
    "    labels = [label2id[l] for l in labels]\n",
    "    return texts, labels, id2label"
   ]
  },
  {
   "cell_type": "code",
   "execution_count": 3,
   "metadata": {},
   "outputs": [],
   "source": [
    "def text_preprocess(text):\n",
    "    text = str(text)\n",
    "    english_punctuations = [',', '.', ':', ';', '?', '(', ')', '[', ']', '&', '!', '*', '@', '#', '$', '%', '\\'', '/']\n",
    "    text = \"\".join([(a if a not in english_punctuations else \" \") for a in text])\n",
    "    text = \" \".join(nltk.tokenize.word_tokenize(text.lower()))\n",
    "    return text"
   ]
  },
  {
   "cell_type": "code",
   "execution_count": 4,
   "metadata": {},
   "outputs": [],
   "source": [
    "def evaluation(predictions, labels, id2label, model_name=None):\n",
    "    acc = accuracy_score(labels, predictions)\n",
    "    recall = recall_score(labels, predictions, average=\"macro\")\n",
    "    f1 = f1_score(labels, predictions, average=\"macro\")\n",
    "    report = metrics.classification_report(labels, predictions,\n",
    "                                           target_names=[id2label[i] for i in range(len(id2label))])\n",
    "    info = \"acc:%s, recall:%s, f1 score:%s\" % (acc, recall, f1)\n",
    "    if model_name is not None:\n",
    "        info = \"%s: %s\" % (model_name, info)\n",
    "    print(info)\n",
    "    print(report)"
   ]
  },
  {
   "cell_type": "markdown",
   "metadata": {},
   "source": [
    "# Start Train"
   ]
  },
  {
   "cell_type": "code",
   "execution_count": 5,
   "metadata": {},
   "outputs": [],
   "source": [
    "texts, labels, id2label = load_data()  \n",
    "texts = [text_preprocess(t) for t in texts]"
   ]
  },
  {
   "cell_type": "markdown",
   "metadata": {},
   "source": [
    "# TF-IDF"
   ]
  },
  {
   "cell_type": "code",
   "execution_count": 6,
   "metadata": {},
   "outputs": [
    {
     "name": "stdout",
     "output_type": "stream",
     "text": [
      "data len: 13492\n",
      "id2label {0: 'Frozen foods', 1: 'Meal ingredients', 2: 'Drinks - hot  cold', 3: 'Baking  cooking', 4: 'Baby care', 5: 'Pharmacy', 6: 'Personal care', 7: 'Breakfast foods', 8: 'Deli  chilled foods', 9: 'Biscuits  crackers', 10: 'Toys  party needs', 11: 'Meat', 12: 'Liquor - wine', 13: 'Fruit  vegetables', 14: 'Liquor - beer  cider', 15: 'Health  wellness', 16: 'Cleaning  homecare', 17: 'Pet care', 18: 'Chocolate, sweets  snacks', 19: 'Seafood', 20: 'Bakery', 21: 'Clothing  manchester', 22: 'Home  kitchenware', 23: 'Canned  prepared foods', 24: 'Office  entertainment'}\n"
     ]
    }
   ],
   "source": [
    "from sklearn.feature_extraction.text import TfidfVectorizer \n",
    "vectorizer = TfidfVectorizer() \n",
    "features=vectorizer.fit_transform(texts)\n",
    "print(\"data len:\", len(texts))\n",
    "print(\"id2label\",id2label)"
   ]
  },
  {
   "cell_type": "markdown",
   "metadata": {},
   "source": [
    "# Segmentation Data"
   ]
  },
  {
   "cell_type": "code",
   "execution_count": 7,
   "metadata": {},
   "outputs": [],
   "source": [
    "x_train, x_test, y_train, y_test = train_test_split(features, labels, test_size=0.25,\n",
    "                                                                            random_state=3)"
   ]
  },
  {
   "cell_type": "markdown",
   "metadata": {},
   "source": [
    "# KNN"
   ]
  },
  {
   "cell_type": "code",
   "execution_count": 8,
   "metadata": {},
   "outputs": [
    {
     "name": "stdout",
     "output_type": "stream",
     "text": [
      "knn: acc:0.866587607471094, recall:0.8082734545361214, f1 score:0.8151671521848803\n",
      "                           precision    recall  f1-score   support\n",
      "\n",
      "             Frozen foods       0.80      0.89      0.84       210\n",
      "         Meal ingredients       0.79      0.90      0.84       214\n",
      "       Drinks - hot  cold       0.80      0.93      0.86       183\n",
      "          Baking  cooking       0.79      0.75      0.77       197\n",
      "                Baby care       0.97      0.93      0.95       125\n",
      "                 Pharmacy       0.00      0.00      0.00         1\n",
      "            Personal care       0.88      0.94      0.91       213\n",
      "          Breakfast foods       0.85      0.85      0.85       136\n",
      "      Deli  chilled foods       0.87      0.84      0.85       230\n",
      "       Biscuits  crackers       0.90      0.93      0.91       108\n",
      "        Toys  party needs       0.80      0.76      0.78        49\n",
      "                     Meat       0.77      0.83      0.80        60\n",
      "            Liquor - wine       0.96      0.99      0.98       241\n",
      "        Fruit  vegetables       0.87      0.91      0.89        94\n",
      "     Liquor - beer  cider       0.98      0.95      0.97        59\n",
      "         Health  wellness       0.85      0.55      0.67       151\n",
      "       Cleaning  homecare       0.94      0.90      0.92       184\n",
      "                 Pet care       0.96      0.99      0.97       151\n",
      "Chocolate, sweets  snacks       0.86      0.87      0.86       183\n",
      "                  Seafood       0.67      0.38      0.49        26\n",
      "                   Bakery       0.87      0.87      0.87       118\n",
      "     Clothing  manchester       0.99      0.87      0.93        78\n",
      "        Home  kitchenware       0.86      0.80      0.83       148\n",
      "   Canned  prepared foods       0.83      0.86      0.84       162\n",
      "    Office  entertainment       0.90      0.71      0.80        52\n",
      "\n",
      "                 accuracy                           0.87      3373\n",
      "                macro avg       0.83      0.81      0.82      3373\n",
      "             weighted avg       0.87      0.87      0.86      3373\n",
      "\n"
     ]
    }
   ],
   "source": [
    "# knn\n",
    "k = len(id2label)\n",
    "model = KNeighborsClassifier(n_neighbors=k)\n",
    "model.fit(x_train, y_train)\n",
    "knn_predict_labels = model.predict(x_test)\n",
    "evaluation(knn_predict_labels, y_test, id2label, \"knn\")"
   ]
  },
  {
   "cell_type": "markdown",
   "metadata": {},
   "source": [
    "# SVM"
   ]
  },
  {
   "cell_type": "code",
   "execution_count": 9,
   "metadata": {},
   "outputs": [
    {
     "name": "stdout",
     "output_type": "stream",
     "text": [
      "svm: acc:0.9276608360509931, recall:0.8771445682314636, f1 score:0.8803862572150645\n",
      "                           precision    recall  f1-score   support\n",
      "\n",
      "             Frozen foods       0.88      0.91      0.90       210\n",
      "         Meal ingredients       0.88      0.93      0.91       214\n",
      "       Drinks - hot  cold       0.93      0.98      0.95       183\n",
      "          Baking  cooking       0.88      0.85      0.87       197\n",
      "                Baby care       0.96      0.98      0.97       125\n",
      "                 Pharmacy       0.00      0.00      0.00         1\n",
      "            Personal care       0.96      0.98      0.97       213\n",
      "          Breakfast foods       0.92      0.97      0.94       136\n",
      "      Deli  chilled foods       0.90      0.90      0.90       230\n",
      "       Biscuits  crackers       0.97      0.97      0.97       108\n",
      "        Toys  party needs       0.89      0.82      0.85        49\n",
      "                     Meat       0.86      0.93      0.90        60\n",
      "            Liquor - wine       1.00      1.00      1.00       241\n",
      "        Fruit  vegetables       0.95      0.94      0.94        94\n",
      "     Liquor - beer  cider       0.98      1.00      0.99        59\n",
      "         Health  wellness       0.89      0.70      0.79       151\n",
      "       Cleaning  homecare       0.98      0.94      0.96       184\n",
      "                 Pet care       0.99      0.99      0.99       151\n",
      "Chocolate, sweets  snacks       0.88      0.97      0.92       183\n",
      "                  Seafood       0.76      0.62      0.68        26\n",
      "                   Bakery       0.96      0.95      0.95       118\n",
      "     Clothing  manchester       0.97      0.95      0.96        78\n",
      "        Home  kitchenware       0.88      0.88      0.88       148\n",
      "   Canned  prepared foods       0.95      0.91      0.93       162\n",
      "    Office  entertainment       0.92      0.85      0.88        52\n",
      "\n",
      "                 accuracy                           0.93      3373\n",
      "                macro avg       0.89      0.88      0.88      3373\n",
      "             weighted avg       0.93      0.93      0.93      3373\n",
      "\n"
     ]
    }
   ],
   "source": [
    "from sklearn.svm import SVC\n",
    "from sklearn.multiclass import OneVsRestClassifier\n",
    "model = OneVsRestClassifier(SVC())\n",
    "model.fit(x_train, y_train) \n",
    "svm_predict_labels = model.predict(x_test)\n",
    "evaluation(svm_predict_labels, y_test, id2label, \"svm\")"
   ]
  },
  {
   "cell_type": "markdown",
   "metadata": {},
   "source": [
    "# LightGBM with GBDT"
   ]
  },
  {
   "cell_type": "code",
   "execution_count": 10,
   "metadata": {},
   "outputs": [],
   "source": [
    "import lightgbm as lgb\n",
    "\n",
    "def lgb_model(x_train, x_test, y_train, y_test, verbose):\n",
    "    params = {'num_leaves': 60,\n",
    "    'min_data_in_leaf': 30,\n",
    "    'objective': 'multiclass',\n",
    "    'num_class': 33,\n",
    "    'max_depth': -1,\n",
    "    'learning_rate': 0.03,\n",
    "    \"min_sum_hessian_in_leaf\": 6,\n",
    "    \"boosting\": \"gbdt\",\n",
    "    \"feature_fraction\": 0.9,\n",
    "    \"bagging_freq\": 1,\n",
    "    \"bagging_fraction\": 0.8,\n",
    "    \"bagging_seed\": 11,\n",
    "    \"lambda_l1\": 0.1,\n",
    "    \"verbosity\": -1,\n",
    "    \"nthread\": 15,\n",
    "    'metric': 'multi_error',\n",
    "    \"random_state\": 2020\n",
    "          }\n",
    "\n",
    "    model = lgb.train(params\n",
    "                      , lgb.Dataset(x_train, y_train)\n",
    "                      , num_boost_round = 100000\n",
    "                      , valid_sets = [lgb.Dataset(x_test, y_test)]\n",
    "                      , verbose_eval = verbose\n",
    "                      , early_stopping_rounds = 500\n",
    "                     )\n",
    "\n",
    "    print('Predicting...')\n",
    "    y_prob = model.predict(x_test, num_iteration=model.best_iteration)\n",
    "    lgb_predict_labels = [list(x).index(max(x)) for x in y_prob]\n",
    "    print(\"AUC score: {:<8.5f}\".format(metrics.accuracy_score(lgb_predict_labels, y_test)))\n",
    "    report = metrics.classification_report(y_test, lgb_predict_labels, target_names=[id2label[i] for i in range(len(id2label))])\n",
    "    print(report)\n",
    "    \n",
    "    return lgb_predict_labels"
   ]
  },
  {
   "cell_type": "code",
   "execution_count": 11,
   "metadata": {},
   "outputs": [
    {
     "name": "stdout",
     "output_type": "stream",
     "text": [
      "Predicting...\n",
      "AUC score: 0.69819 \n",
      "                           precision    recall  f1-score   support\n",
      "\n",
      "             Frozen foods       0.79      0.68      0.73       210\n",
      "         Meal ingredients       0.76      0.72      0.74       214\n",
      "       Drinks - hot  cold       0.81      0.87      0.84       183\n",
      "          Baking  cooking       0.62      0.47      0.54       197\n",
      "                Baby care       0.92      0.88      0.90       125\n",
      "                 Pharmacy       0.00      0.00      0.00         1\n",
      "            Personal care       0.75      0.73      0.74       213\n",
      "          Breakfast foods       0.68      0.59      0.63       136\n",
      "      Deli  chilled foods       0.80      0.71      0.76       230\n",
      "       Biscuits  crackers       0.93      0.81      0.86       108\n",
      "        Toys  party needs       1.00      0.35      0.52        49\n",
      "                     Meat       0.58      0.72      0.64        60\n",
      "            Liquor - wine       0.97      0.88      0.93       241\n",
      "        Fruit  vegetables       0.85      0.82      0.83        94\n",
      "     Liquor - beer  cider       0.92      0.59      0.72        59\n",
      "         Health  wellness       0.49      0.47      0.48       151\n",
      "       Cleaning  homecare       0.28      0.77      0.41       184\n",
      "                 Pet care       0.95      0.98      0.97       151\n",
      "Chocolate, sweets  snacks       0.70      0.78      0.73       183\n",
      "                  Seafood       0.08      0.04      0.05        26\n",
      "                   Bakery       0.77      0.73      0.75       118\n",
      "     Clothing  manchester       0.85      0.64      0.73        78\n",
      "        Home  kitchenware       0.65      0.45      0.53       148\n",
      "   Canned  prepared foods       0.76      0.73      0.74       162\n",
      "    Office  entertainment       0.00      0.00      0.00        52\n",
      "\n",
      "                 accuracy                           0.70      3373\n",
      "                macro avg       0.68      0.62      0.63      3373\n",
      "             weighted avg       0.73      0.70      0.70      3373\n",
      "\n"
     ]
    }
   ],
   "source": [
    "\n",
    "lgb_predict_labels = lgb_model(x_train, x_test, y_train, y_test, verbose=False)"
   ]
  }
 ],
 "metadata": {
  "kernelspec": {
   "display_name": "Python 3",
   "language": "python",
   "name": "python3"
  },
  "language_info": {
   "codemirror_mode": {
    "name": "ipython",
    "version": 3
   },
   "file_extension": ".py",
   "mimetype": "text/x-python",
   "name": "python",
   "nbconvert_exporter": "python",
   "pygments_lexer": "ipython3",
   "version": "3.7.6"
  }
 },
 "nbformat": 4,
 "nbformat_minor": 2
}
