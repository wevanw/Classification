{
 "cells": [
  {
   "cell_type": "markdown",
   "metadata": {},
   "source": [
    "# import Package"
   ]
  },
  {
   "cell_type": "code",
   "execution_count": 1,
   "metadata": {},
   "outputs": [],
   "source": [
    "import numpy as np\n",
    "import os\n",
    "import nltk\n",
    "import torch\n",
    "import torch.nn\n",
    "import torchtext.vocab as vocab\n",
    "from sklearn import metrics\n",
    "import pandas as pd\n",
    "import warnings\n",
    "from sklearn.metrics import accuracy_score, f1_score, recall_score\n",
    "from sklearn.linear_model import LinearRegression\n",
    "from datetime import datetime\n",
    "from sklearn.neighbors import KNeighborsClassifier\n",
    "from sklearn.model_selection import train_test_split\n",
    "from sklearn.linear_model import LinearRegression\n",
    "warnings.filterwarnings(\"ignore\")\n"
   ]
  },
  {
   "cell_type": "markdown",
   "metadata": {},
   "source": [
    "# Function definition"
   ]
  },
  {
   "cell_type": "code",
   "execution_count": 2,
   "metadata": {},
   "outputs": [],
   "source": [
    "def load_data():\n",
    "    df = pd.read_csv(\"./data/data_augumented.csv\", encoding='utf_8_sig')\n",
    "    # print(df.columns)\n",
    "    texts = df['name'].values\n",
    "    df = df.fillna(-1)\n",
    "    # labels = np.argmax(df[df.columns[-4:]].values, axis=1)\n",
    "    labels = df['cat'].values\n",
    "    label2id = {l: i for i, l in enumerate(set(labels))}\n",
    "    id2label = {i: l for l, i in label2id.items()}\n",
    "    labels = [label2id[l] for l in labels]\n",
    "    return texts, labels, id2label"
   ]
  },
  {
   "cell_type": "code",
   "execution_count": 3,
   "metadata": {},
   "outputs": [],
   "source": [
    "def text_preprocess(text):\n",
    "    text = str(text)\n",
    "    english_punctuations = [',', '.', ':', ';', '?', '(', ')', '[', ']', '&', '!', '*', '@', '#', '$', '%', '\\'', '/']\n",
    "    text = \"\".join([(a if a not in english_punctuations else \" \") for a in text])\n",
    "    text = \" \".join(nltk.tokenize.word_tokenize(text.lower()))\n",
    "    return text"
   ]
  },
  {
   "cell_type": "code",
   "execution_count": 4,
   "metadata": {},
   "outputs": [],
   "source": [
    "def load_embeddings():\n",
    "    \n",
    "    cache = '.vector_cache'\n",
    "    if not os.path.exists(cache):\n",
    "        os.mkdir(cache)\n",
    "\n",
    "    word2vec = vocab.Vectors(name=r'./word2vec/word2vec_300dim.txt', cache=cache)\n",
    "\n",
    "    return word2vec"
   ]
  },
  {
   "cell_type": "code",
   "execution_count": 5,
   "metadata": {},
   "outputs": [],
   "source": [
    "def encode_text_to_features(vector, text):\n",
    "    vectors = vector.get_vecs_by_tokens(text.split())\n",
    "    sentence_vector = torch.mean(vectors, dim=0)\n",
    "    return sentence_vector.tolist()"
   ]
  },
  {
   "cell_type": "code",
   "execution_count": 6,
   "metadata": {},
   "outputs": [],
   "source": [
    "def evaluation(predictions, labels, id2label, model_name=None):\n",
    "    acc = accuracy_score(labels, predictions)\n",
    "    recall = recall_score(labels, predictions, average=\"macro\")\n",
    "    f1 = f1_score(labels, predictions, average=\"macro\")\n",
    "    report = metrics.classification_report(labels, predictions,\n",
    "                                           target_names=[id2label[i] for i in range(len(id2label))])\n",
    "    info = \"acc:%s, recall:%s, f1 score:%s\" % (acc, recall, f1)\n",
    "    if model_name is not None:\n",
    "        info = \"%s: %s\" % (model_name, info)\n",
    "    print(info)\n",
    "    print(report)"
   ]
  },
  {
   "cell_type": "markdown",
   "metadata": {},
   "source": [
    "# Prepare corpus"
   ]
  },
  {
   "cell_type": "code",
   "execution_count": 7,
   "metadata": {},
   "outputs": [
    {
     "data": {
      "text/html": [
       "<div>\n",
       "<style scoped>\n",
       "    .dataframe tbody tr th:only-of-type {\n",
       "        vertical-align: middle;\n",
       "    }\n",
       "\n",
       "    .dataframe tbody tr th {\n",
       "        vertical-align: top;\n",
       "    }\n",
       "\n",
       "    .dataframe thead th {\n",
       "        text-align: right;\n",
       "    }\n",
       "</style>\n",
       "<table border=\"1\" class=\"dataframe\">\n",
       "  <thead>\n",
       "    <tr style=\"text-align: right;\">\n",
       "      <th></th>\n",
       "      <th>name</th>\n",
       "      <th>cat</th>\n",
       "    </tr>\n",
       "  </thead>\n",
       "  <tbody>\n",
       "    <tr>\n",
       "      <th>0</th>\n",
       "      <td>ones baby wipes unscented</td>\n",
       "      <td>Baby care</td>\n",
       "    </tr>\n",
       "    <tr>\n",
       "      <th>1</th>\n",
       "      <td>unscented ones baby wipes little</td>\n",
       "      <td>﻿Baby care</td>\n",
       "    </tr>\n",
       "    <tr>\n",
       "      <th>2</th>\n",
       "      <td>baby ones little wipes unscented</td>\n",
       "      <td>﻿Baby care</td>\n",
       "    </tr>\n",
       "    <tr>\n",
       "      <th>3</th>\n",
       "      <td>little ones baby wipes rub unscented</td>\n",
       "      <td>﻿Baby care</td>\n",
       "    </tr>\n",
       "    <tr>\n",
       "      <th>4</th>\n",
       "      <td>little ones baby wipes unscented</td>\n",
       "      <td>﻿Baby care</td>\n",
       "    </tr>\n",
       "  </tbody>\n",
       "</table>\n",
       "</div>"
      ],
      "text/plain": [
       "                                   name         cat\n",
       "0             ones baby wipes unscented   Baby care\n",
       "1      unscented ones baby wipes little  ﻿Baby care\n",
       "2      baby ones little wipes unscented  ﻿Baby care\n",
       "3  little ones baby wipes rub unscented  ﻿Baby care\n",
       "4      little ones baby wipes unscented  ﻿Baby care"
      ]
     },
     "execution_count": 7,
     "metadata": {},
     "output_type": "execute_result"
    }
   ],
   "source": [
    "data = pd.read_csv('./data/data_augumented.csv', encoding='utf_8_sig')\n",
    "data.head()"
   ]
  },
  {
   "cell_type": "code",
   "execution_count": 8,
   "metadata": {},
   "outputs": [],
   "source": [
    "data = data.apply([text_preprocess])"
   ]
  },
  {
   "cell_type": "code",
   "execution_count": 9,
   "metadata": {},
   "outputs": [],
   "source": [
    "data.columns = ['name', 'cat']"
   ]
  },
  {
   "cell_type": "code",
   "execution_count": 10,
   "metadata": {},
   "outputs": [
    {
     "data": {
      "text/html": [
       "<div>\n",
       "<style scoped>\n",
       "    .dataframe tbody tr th:only-of-type {\n",
       "        vertical-align: middle;\n",
       "    }\n",
       "\n",
       "    .dataframe tbody tr th {\n",
       "        vertical-align: top;\n",
       "    }\n",
       "\n",
       "    .dataframe thead th {\n",
       "        text-align: right;\n",
       "    }\n",
       "</style>\n",
       "<table border=\"1\" class=\"dataframe\">\n",
       "  <thead>\n",
       "    <tr style=\"text-align: right;\">\n",
       "      <th></th>\n",
       "      <th>name</th>\n",
       "      <th>cat</th>\n",
       "    </tr>\n",
       "  </thead>\n",
       "  <tbody>\n",
       "    <tr>\n",
       "      <th>0</th>\n",
       "      <td>ones baby wipes unscented</td>\n",
       "      <td>baby care</td>\n",
       "    </tr>\n",
       "    <tr>\n",
       "      <th>1</th>\n",
       "      <td>unscented ones baby wipes little</td>\n",
       "      <td>﻿baby care</td>\n",
       "    </tr>\n",
       "    <tr>\n",
       "      <th>2</th>\n",
       "      <td>baby ones little wipes unscented</td>\n",
       "      <td>﻿baby care</td>\n",
       "    </tr>\n",
       "    <tr>\n",
       "      <th>3</th>\n",
       "      <td>little ones baby wipes rub unscented</td>\n",
       "      <td>﻿baby care</td>\n",
       "    </tr>\n",
       "    <tr>\n",
       "      <th>4</th>\n",
       "      <td>little ones baby wipes unscented</td>\n",
       "      <td>﻿baby care</td>\n",
       "    </tr>\n",
       "    <tr>\n",
       "      <th>...</th>\n",
       "      <td>...</td>\n",
       "      <td>...</td>\n",
       "    </tr>\n",
       "    <tr>\n",
       "      <th>121423</th>\n",
       "      <td>ceres organics lentils organic fertilizer orga...</td>\n",
       "      <td>meal ingredients</td>\n",
       "    </tr>\n",
       "    <tr>\n",
       "      <th>121424</th>\n",
       "      <td>ceres organic fertilizer organics lentils orga...</td>\n",
       "      <td>meal ingredients</td>\n",
       "    </tr>\n",
       "    <tr>\n",
       "      <th>121425</th>\n",
       "      <td>ceres organics organic lentils brown</td>\n",
       "      <td>meal ingredients</td>\n",
       "    </tr>\n",
       "    <tr>\n",
       "      <th>121426</th>\n",
       "      <td>ceres brown lentils organic organics</td>\n",
       "      <td>meal ingredients</td>\n",
       "    </tr>\n",
       "    <tr>\n",
       "      <th>121427</th>\n",
       "      <td>ceres organics lentils organic brown</td>\n",
       "      <td>meal ingredients</td>\n",
       "    </tr>\n",
       "  </tbody>\n",
       "</table>\n",
       "<p>121428 rows × 2 columns</p>\n",
       "</div>"
      ],
      "text/plain": [
       "                                                     name               cat\n",
       "0                               ones baby wipes unscented         baby care\n",
       "1                        unscented ones baby wipes little        ﻿baby care\n",
       "2                        baby ones little wipes unscented        ﻿baby care\n",
       "3                    little ones baby wipes rub unscented        ﻿baby care\n",
       "4                        little ones baby wipes unscented        ﻿baby care\n",
       "...                                                   ...               ...\n",
       "121423  ceres organics lentils organic fertilizer orga...  meal ingredients\n",
       "121424  ceres organic fertilizer organics lentils orga...  meal ingredients\n",
       "121425               ceres organics organic lentils brown  meal ingredients\n",
       "121426               ceres brown lentils organic organics  meal ingredients\n",
       "121427               ceres organics lentils organic brown  meal ingredients\n",
       "\n",
       "[121428 rows x 2 columns]"
      ]
     },
     "execution_count": 10,
     "metadata": {},
     "output_type": "execute_result"
    }
   ],
   "source": [
    "data"
   ]
  },
  {
   "cell_type": "code",
   "execution_count": 11,
   "metadata": {},
   "outputs": [],
   "source": [
    "newfile = open('./data/corpus.txt', 'w', encoding='utf_8_sig')\n",
    "for i in range(len(data['name'])):\n",
    "    newline = data['name'][i] + ' ' + data['cat'][i] + '\\n'\n",
    "    newfile.write(newline)"
   ]
  },
  {
   "cell_type": "markdown",
   "metadata": {},
   "source": [
    "# Train Word2vec"
   ]
  },
  {
   "cell_type": "code",
   "execution_count": 12,
   "metadata": {},
   "outputs": [],
   "source": [
    "from gensim.models import Word2Vec\n",
    "from gensim.models.word2vec import LineSentence\n",
    "import multiprocessing"
   ]
  },
  {
   "cell_type": "code",
   "execution_count": 13,
   "metadata": {},
   "outputs": [],
   "source": [
    "readlines = open('./data/corpus.txt', 'r', encoding='utf_8_sig')\n",
    "\n",
    "model = Word2Vec(LineSentence(readlines),\n",
    "                 size=300, window=5, min_count=10, sample=1e-5,\n",
    "                 workers=multiprocessing.cpu_count(), iter=5,)\n",
    "\n",
    "model.wv.save_word2vec_format(r'./word2vec/word2vec_300dim.txt', binary=False)"
   ]
  },
  {
   "cell_type": "markdown",
   "metadata": {},
   "source": [
    "# Start Train"
   ]
  },
  {
   "cell_type": "code",
   "execution_count": 14,
   "metadata": {},
   "outputs": [
    {
     "name": "stdout",
     "output_type": "stream",
     "text": [
      "data len: 121428\n",
      "id2label {0: 'Home  kitchenware', 1: 'Pet care', 2: 'Clothing  manchester', 3: 'Frozen foods', 4: 'Bakery', 5: 'Baking  cooking', 6: 'Baby care', 7: 'Health  wellness', 8: 'Pharmacy', 9: 'Personal care', 10: 'Biscuits  crackers', 11: 'Toys  party needs', 12: 'Breakfast foods', 13: 'Canned  prepared foods', 14: 'Cleaning  homecare', 15: 'Liquor - wine', 16: 'Fruit  vegetables', 17: 'Deli  chilled foods', 18: 'Meat', 19: 'Seafood', 20: 'Office  entertainment', 21: '\\ufeffBaby care', 22: 'Liquor - beer  cider', 23: 'Drinks - hot  cold', 24: 'Meal ingredients', 25: 'Chocolate, sweets  snacks'}\n"
     ]
    }
   ],
   "source": [
    "texts, labels, id2label = load_data()\n",
    "texts = [text_preprocess(t) for t in texts]\n",
    "vector = load_embeddings()\n",
    "features = [encode_text_to_features(vector, text) for text in texts]\n",
    "print(\"data len:\", len(texts))\n",
    "print(\"id2label\",id2label)"
   ]
  },
  {
   "cell_type": "markdown",
   "metadata": {},
   "source": [
    "# Segmentation Data"
   ]
  },
  {
   "cell_type": "code",
   "execution_count": 15,
   "metadata": {},
   "outputs": [],
   "source": [
    "x_train, x_test, y_train, y_test = train_test_split(features, labels, test_size=0.25,\n",
    "                                                                            random_state=3)"
   ]
  },
  {
   "cell_type": "markdown",
   "metadata": {},
   "source": [
    "# SVM"
   ]
  },
  {
   "cell_type": "code",
   "execution_count": null,
   "metadata": {},
   "outputs": [],
   "source": [
    "from sklearn.svm import SVC\n",
    "from sklearn.multiclass import OneVsRestClassifier\n",
    "model = OneVsRestClassifier(SVC()) #C=1, gamma=20, decision_function_shape='ovr')) \n",
    "model.fit(x_train, y_train) \n",
    "predict_labels = model.predict(x_test)\n",
    "evaluation(predict_labels, y_test, id2label, \"svm\")"
   ]
  },
  {
   "cell_type": "markdown",
   "metadata": {},
   "source": [
    "# KNN"
   ]
  },
  {
   "cell_type": "code",
   "execution_count": null,
   "metadata": {},
   "outputs": [],
   "source": [
    "# knn\n",
    "k = len(id2label)\n",
    "model = KNeighborsClassifier(n_neighbors=k)\n",
    "model.fit(x_train, y_train)\n",
    "predict_labels = model.predict(x_test)\n",
    "evaluation(predict_labels, y_test, id2label, \"knn\")"
   ]
  },
  {
   "cell_type": "code",
   "execution_count": null,
   "metadata": {},
   "outputs": [],
   "source": []
  }
 ],
 "metadata": {
  "kernelspec": {
   "display_name": "Python 3",
   "language": "python",
   "name": "python3"
  },
  "language_info": {
   "codemirror_mode": {
    "name": "ipython",
    "version": 3
   },
   "file_extension": ".py",
   "mimetype": "text/x-python",
   "name": "python",
   "nbconvert_exporter": "python",
   "pygments_lexer": "ipython3",
   "version": "3.7.6"
  }
 },
 "nbformat": 4,
 "nbformat_minor": 2
}
